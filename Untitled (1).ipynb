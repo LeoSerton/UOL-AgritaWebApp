{
 "cells": [
  {
   "cell_type": "code",
   "execution_count": 1,
   "id": "da79dc21",
   "metadata": {},
   "outputs": [],
   "source": [
    "import pandas as pd"
   ]
  },
  {
   "cell_type": "code",
   "execution_count": 2,
   "id": "f2dc47ee",
   "metadata": {},
   "outputs": [],
   "source": [
    "dataframe1 = []"
   ]
  },
  {
   "cell_type": "code",
   "execution_count": null,
   "id": "803b291a",
   "metadata": {},
   "outputs": [],
   "source": []
  },
  {
   "cell_type": "code",
   "execution_count": 9,
   "id": "01aa69ee",
   "metadata": {},
   "outputs": [
    {
     "name": "stdout",
     "output_type": "stream",
     "text": [
      "Number of cages : A2\n",
      "Number of chicks : 10\n",
      "Number of eggs : 0\n",
      "Ringed : yes or no : no\n",
      "Cleaning required : yes or no : yes\n",
      "Sawdust required : yes or no : no\n"
     ]
    }
   ],
   "source": [
    "Cage_Input = input('Number of cages : ')\n",
    "Chicks_Input = input('Number of chicks : ')\n",
    "Eggs_Input = input('Number of eggs : ')\n",
    "Ring_Input = input('Ringed : yes or no : ')\n",
    "Clean_Input = input('Cleaning required : yes or no : ')\n",
    "Sawdust_Input = input('Sawdust required : yes or no : ')"
   ]
  },
  {
   "cell_type": "code",
   "execution_count": null,
   "id": "94077eb9",
   "metadata": {},
   "outputs": [],
   "source": []
  },
  {
   "cell_type": "code",
   "execution_count": 10,
   "id": "273b1096",
   "metadata": {},
   "outputs": [],
   "source": [
    "def function1(a = Cage_Input , b = Chicks_Input , c = Eggs_Input , d = Ring_Input , e = Clean_Input , f = Sawdust_Input):\n",
    "    \n",
    "    Cage_List = []\n",
    "    Chicks_List = []\n",
    "    Eggs_List = []\n",
    "    Ring_bool_List = []\n",
    "    Clean_bool_List = []\n",
    "    Sawdust_bool_list = []\n",
    "    \n",
    "    \n",
    "    Cage_List.append(a)\n",
    "    Chicks_List.append(b)\n",
    "    Eggs_List.append(c)\n",
    "    Ring_bool_List.append(d)\n",
    "    Clean_bool_List.append(e)\n",
    "    Sawdust_bool_list.append(f)\n",
    "    \n",
    "    df_Row = []   \n",
    "    df_Row = Cage_List+Chicks_List+Eggs_List+Ring_bool_List+Clean_bool_List +Sawdust_bool_list \n",
    "    dataframe1.append(df_Row)\n",
    "    print(df_Row)"
   ]
  },
  {
   "cell_type": "code",
   "execution_count": 11,
   "id": "4c330623",
   "metadata": {},
   "outputs": [
    {
     "name": "stdout",
     "output_type": "stream",
     "text": [
      "['A2', '10', '0', 'no', 'yes', 'no']\n"
     ]
    }
   ],
   "source": [
    "function1(Cage_Input,Chicks_Input , Eggs_Input ,Ring_Input ,Clean_Input , Sawdust_Input)"
   ]
  },
  {
   "cell_type": "code",
   "execution_count": 12,
   "id": "7f5a7964",
   "metadata": {},
   "outputs": [
    {
     "data": {
      "text/plain": [
       "[['A4', '0', '14', 'yes', 'no', 'yes'], ['A2', '10', '0', 'no', 'yes', 'no']]"
      ]
     },
     "execution_count": 12,
     "metadata": {},
     "output_type": "execute_result"
    }
   ],
   "source": [
    "dataframe1"
   ]
  },
  {
   "cell_type": "code",
   "execution_count": 13,
   "id": "9a594d8d",
   "metadata": {},
   "outputs": [],
   "source": [
    "df = pd.DataFrame(dataframe1 , columns = ['Cage','Chicks','Eggs','Ring','Clean','Sawdust'])"
   ]
  },
  {
   "cell_type": "code",
   "execution_count": 14,
   "id": "c94fcb01",
   "metadata": {},
   "outputs": [
    {
     "data": {
      "text/html": [
       "<div>\n",
       "<style scoped>\n",
       "    .dataframe tbody tr th:only-of-type {\n",
       "        vertical-align: middle;\n",
       "    }\n",
       "\n",
       "    .dataframe tbody tr th {\n",
       "        vertical-align: top;\n",
       "    }\n",
       "\n",
       "    .dataframe thead th {\n",
       "        text-align: right;\n",
       "    }\n",
       "</style>\n",
       "<table border=\"1\" class=\"dataframe\">\n",
       "  <thead>\n",
       "    <tr style=\"text-align: right;\">\n",
       "      <th></th>\n",
       "      <th>Cage</th>\n",
       "      <th>Chicks</th>\n",
       "      <th>Eggs</th>\n",
       "      <th>Ring</th>\n",
       "      <th>Clean</th>\n",
       "      <th>Sawdust</th>\n",
       "    </tr>\n",
       "  </thead>\n",
       "  <tbody>\n",
       "    <tr>\n",
       "      <th>0</th>\n",
       "      <td>A4</td>\n",
       "      <td>0</td>\n",
       "      <td>14</td>\n",
       "      <td>yes</td>\n",
       "      <td>no</td>\n",
       "      <td>yes</td>\n",
       "    </tr>\n",
       "    <tr>\n",
       "      <th>1</th>\n",
       "      <td>A2</td>\n",
       "      <td>10</td>\n",
       "      <td>0</td>\n",
       "      <td>no</td>\n",
       "      <td>yes</td>\n",
       "      <td>no</td>\n",
       "    </tr>\n",
       "  </tbody>\n",
       "</table>\n",
       "</div>"
      ],
      "text/plain": [
       "  Cage Chicks Eggs Ring Clean Sawdust\n",
       "0   A4      0   14  yes    no     yes\n",
       "1   A2     10    0   no   yes      no"
      ]
     },
     "execution_count": 14,
     "metadata": {},
     "output_type": "execute_result"
    }
   ],
   "source": [
    "df"
   ]
  },
  {
   "cell_type": "code",
   "execution_count": null,
   "id": "0a6523ee",
   "metadata": {},
   "outputs": [],
   "source": []
  }
 ],
 "metadata": {
  "kernelspec": {
   "display_name": "Python 3",
   "language": "python",
   "name": "python3"
  },
  "language_info": {
   "codemirror_mode": {
    "name": "ipython",
    "version": 3
   },
   "file_extension": ".py",
   "mimetype": "text/x-python",
   "name": "python",
   "nbconvert_exporter": "python",
   "pygments_lexer": "ipython3",
   "version": "3.8.8"
  }
 },
 "nbformat": 4,
 "nbformat_minor": 5
}
